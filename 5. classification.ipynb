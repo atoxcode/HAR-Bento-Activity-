{
 "cells": [
  {
   "cell_type": "code",
   "execution_count": 1,
   "metadata": {
    "execution": {
     "iopub.execute_input": "2020-10-02T09:48:51.183162Z",
     "iopub.status.busy": "2020-10-02T09:48:51.182172Z",
     "iopub.status.idle": "2020-10-02T09:48:52.920649Z",
     "shell.execute_reply": "2020-10-02T09:48:52.921734Z"
    }
   },
   "outputs": [],
   "source": [
    "import pandas as pd\n",
    "import numpy as np\n",
    "import os\n",
    "from glob import glob\n",
    "from sklearn.ensemble import RandomForestClassifier\n",
    "from sklearn.model_selection import train_test_split"
   ]
  },
  {
   "cell_type": "code",
   "execution_count": 2,
   "metadata": {
    "execution": {
     "iopub.execute_input": "2020-10-02T09:48:52.927058Z",
     "iopub.status.busy": "2020-10-02T09:48:52.926115Z",
     "iopub.status.idle": "2020-10-02T09:48:53.497302Z",
     "shell.execute_reply": "2020-10-02T09:48:53.498234Z"
    }
   },
   "outputs": [],
   "source": [
    "from sklearn.metrics import classification_report\n",
    "from display_results import confusion_matrix"
   ]
  },
  {
   "cell_type": "code",
   "execution_count": 3,
   "metadata": {
    "execution": {
     "iopub.execute_input": "2020-10-02T09:48:53.503937Z",
     "iopub.status.busy": "2020-10-02T09:48:53.503037Z",
     "iopub.status.idle": "2020-10-02T09:48:53.509082Z",
     "shell.execute_reply": "2020-10-02T09:48:53.510214Z"
    }
   },
   "outputs": [],
   "source": [
    "df_activity = pd.read_csv(\"activities.csv\")"
   ]
  },
  {
   "cell_type": "code",
   "execution_count": 5,
   "metadata": {
    "execution": {
     "iopub.execute_input": "2020-10-02T09:48:53.517496Z",
     "iopub.status.busy": "2020-10-02T09:48:53.516588Z",
     "iopub.status.idle": "2020-10-02T09:48:53.519054Z",
     "shell.execute_reply": "2020-10-02T09:48:53.519927Z"
    }
   },
   "outputs": [],
   "source": [
    "def segmentation(x_data,y,overlap_rate,time_window):\n",
    "    \n",
    "    seg_data = []\n",
    "    overlap = int((1 - overlap_rate)*time_window)\n",
    "    y_segmented_list = []\n",
    "    \n",
    "    for i in range(0,x_data.shape[0],overlap):\n",
    "        seg_data.append(x_data[i:i+time_window])\n",
    "        y_segmented_list.append(y)\n",
    "\n",
    "    return seg_data,y_segmented_list"
   ]
  },
  {
   "cell_type": "code",
   "execution_count": 6,
   "metadata": {
    "execution": {
     "iopub.execute_input": "2020-10-02T09:48:53.526066Z",
     "iopub.status.busy": "2020-10-02T09:48:53.525148Z",
     "iopub.status.idle": "2020-10-02T09:48:53.527412Z",
     "shell.execute_reply": "2020-10-02T09:48:53.528270Z"
    }
   },
   "outputs": [],
   "source": [
    "def handle_missing_values(df):\n",
    "    df['x']=df['x'].replace(0, np.nan)\n",
    "    df['y']=df['y'].replace(0, np.nan)\n",
    "    df['z']=df['z'].replace(0, np.nan)\n",
    "    return df"
   ]
  },
  {
   "cell_type": "code",
   "execution_count": 7,
   "metadata": {
    "execution": {
     "iopub.execute_input": "2020-10-02T09:48:53.533957Z",
     "iopub.status.busy": "2020-10-02T09:48:53.533078Z",
     "iopub.status.idle": "2020-10-02T09:48:53.535368Z",
     "shell.execute_reply": "2020-10-02T09:48:53.536252Z"
    }
   },
   "outputs": [],
   "source": [
    "def get_act_id(seg_id):\n",
    "    seg = df_activity[df_activity[\"segment_id\"]==seg_id]\n",
    "    activity_id = seg[\"activity_id\"].values\n",
    "    return int(activity_id)"
   ]
  },
  {
   "cell_type": "code",
   "execution_count": 8,
   "metadata": {
    "execution": {
     "iopub.execute_input": "2020-10-02T09:48:53.543632Z",
     "iopub.status.busy": "2020-10-02T09:48:53.542520Z",
     "iopub.status.idle": "2020-10-02T09:48:53.544829Z",
     "shell.execute_reply": "2020-10-02T09:48:53.545766Z"
    }
   },
   "outputs": [],
   "source": [
    "def load_data(csv_file):\n",
    "\n",
    "    y_list = []\n",
    "    x_data_list = []\n",
    "\n",
    "    csv_df = pd.read_csv(csv_file)\n",
    "    csv_df = handle_missing_values(csv_df)\n",
    "    csv_df.dropna(inplace=True)\n",
    "    x_data = csv_df.values\n",
    "    act_id = get_act_id(int(os.path.splitext(os.path.basename(csv_file))[0].replace(\"segment\",\"\")))\n",
    "    \n",
    "    return x_data,act_id"
   ]
  },
  {
   "cell_type": "code",
   "execution_count": 9,
   "metadata": {
    "execution": {
     "iopub.execute_input": "2020-10-02T09:48:53.553546Z",
     "iopub.status.busy": "2020-10-02T09:48:53.552567Z",
     "iopub.status.idle": "2020-10-02T09:48:53.555042Z",
     "shell.execute_reply": "2020-10-02T09:48:53.555900Z"
    }
   },
   "outputs": [],
   "source": [
    "def get_features(x_data):\n",
    "    features = []\n",
    "    for i in range(x_data.shape[1]):\n",
    "        # std\n",
    "        features.append(x_data.T[i].std(ddof=0))\n",
    "        # avg\n",
    "        features.append(np.average(x_data.T[i]))\n",
    "        # max\n",
    "        features.append(np.max(x_data.T[i]))\n",
    "        # min\n",
    "        features.append(np.min(x_data.T[i]))\n",
    "    return features"
   ]
  },
  {
   "cell_type": "code",
   "execution_count": 10,
   "metadata": {
    "execution": {
     "iopub.execute_input": "2020-10-02T09:48:53.560838Z",
     "iopub.status.busy": "2020-10-02T09:48:53.559924Z",
     "iopub.status.idle": "2020-10-02T09:48:53.563812Z",
     "shell.execute_reply": "2020-10-02T09:48:53.564696Z"
    }
   },
   "outputs": [],
   "source": [
    "csv_files = glob(\"train/*\")"
   ]
  },
  {
   "cell_type": "code",
   "execution_count": 11,
   "metadata": {
    "execution": {
     "iopub.execute_input": "2020-10-02T09:48:53.570907Z",
     "iopub.status.busy": "2020-10-02T09:48:53.570029Z",
     "iopub.status.idle": "2020-10-02T09:48:54.591965Z",
     "shell.execute_reply": "2020-10-02T09:48:54.592916Z"
    }
   },
   "outputs": [],
   "source": [
    "X_feature_data_list = []\n",
    "y_list = []\n",
    "for csv_file in csv_files:\n",
    "    x,y = load_data(csv_file)\n",
    "    X_feature_data_list.append(get_features(x))\n",
    "    y_list.append(y)"
   ]
  },
  {
   "cell_type": "code",
   "execution_count": 12,
   "metadata": {
    "execution": {
     "iopub.execute_input": "2020-10-02T09:48:54.598587Z",
     "iopub.status.busy": "2020-10-02T09:48:54.597722Z",
     "iopub.status.idle": "2020-10-02T09:48:54.599999Z",
     "shell.execute_reply": "2020-10-02T09:48:54.600856Z"
    }
   },
   "outputs": [],
   "source": [
    "X_train,X_test,y_train,y_test = train_test_split(X_feature_data_list,y_list,test_size=0.3)"
   ]
  },
  {
   "cell_type": "code",
   "execution_count": 13,
   "metadata": {
    "execution": {
     "iopub.execute_input": "2020-10-02T09:48:54.605807Z",
     "iopub.status.busy": "2020-10-02T09:48:54.604965Z",
     "iopub.status.idle": "2020-10-02T09:48:54.607291Z",
     "shell.execute_reply": "2020-10-02T09:48:54.608137Z"
    }
   },
   "outputs": [],
   "source": [
    "model_ml = RandomForestClassifier(n_estimators=500,n_jobs=-1)"
   ]
  },
  {
   "cell_type": "code",
   "execution_count": 14,
   "metadata": {
    "execution": {
     "iopub.execute_input": "2020-10-02T09:48:54.692756Z",
     "iopub.status.busy": "2020-10-02T09:48:54.648549Z",
     "iopub.status.idle": "2020-10-02T09:48:55.980226Z",
     "shell.execute_reply": "2020-10-02T09:48:55.981094Z"
    }
   },
   "outputs": [],
   "source": [
    "model_ml.fit(X_train,y_train)\n",
    "y_predict = model_ml.predict(X_test)"
   ]
  },
  {
   "cell_type": "code",
   "execution_count": 15,
   "metadata": {
    "execution": {
     "iopub.execute_input": "2020-10-02T09:48:55.987948Z",
     "iopub.status.busy": "2020-10-02T09:48:55.985914Z",
     "iopub.status.idle": "2020-10-02T09:48:55.995838Z",
     "shell.execute_reply": "2020-10-02T09:48:55.996731Z"
    }
   },
   "outputs": [
    {
     "name": "stdout",
     "output_type": "stream",
     "text": [
      "              precision    recall  f1-score   support\n",
      "\n",
      "           2       0.62      0.62      0.62         8\n",
      "           3       0.69      0.82      0.75        11\n",
      "           4       1.00      0.57      0.73         7\n",
      "           6       1.00      0.71      0.83         7\n",
      "           9       0.80      0.40      0.53        10\n",
      "          12       0.58      1.00      0.73        11\n",
      "\n",
      "    accuracy                           0.70        54\n",
      "   macro avg       0.78      0.69      0.70        54\n",
      "weighted avg       0.76      0.70      0.70        54\n",
      "\n"
     ]
    }
   ],
   "source": [
    "print(classification_report(y_test,y_predict))"
   ]
  },
  {
   "cell_type": "code",
   "execution_count": 16,
   "metadata": {
    "execution": {
     "iopub.execute_input": "2020-10-02T09:48:56.102430Z",
     "iopub.status.busy": "2020-10-02T09:48:56.070422Z",
     "iopub.status.idle": "2020-10-02T09:48:57.377153Z",
     "shell.execute_reply": "2020-10-02T09:48:57.378063Z"
    }
   },
   "outputs": [
    {
     "data": {
      "image/png": "[encoded data removed]",
      "text/plain": [
       "<Figure size 864x576 with 2 Axes>"
      ]
     },
     "metadata": {
      "needs_background": "light"
     },
     "output_type": "display_data"
    },
    {
     "name": "stdout",
     "output_type": "stream",
     "text": [
      "None\n"
     ]
    }
   ],
   "source": [
    "print(confusion_matrix(y_test, y_predict))"
   ]
  },
  {
   "cell_type": "code",
   "execution_count": null,
   "metadata": {},
   "outputs": [],
   "source": []
  }
 ],
 "metadata": {
  "kernelspec": {
   "display_name": "Python 3",
   "language": "python",
   "name": "python3"
  },
  "language_info": {
   "codemirror_mode": {
    "name": "ipython",
    "version": 3
   },
   "file_extension": ".py",
   "mimetype": "text/x-python",
   "name": "python",
   "nbconvert_exporter": "python",
   "pygments_lexer": "ipython3",
   "version": "3.7.4"
  }
 },
 "nbformat": 4,
 "nbformat_minor": 2
}
